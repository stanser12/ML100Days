{
  "nbformat": 4,
  "nbformat_minor": 0,
  "metadata": {
    "colab": {
      "name": "numpy2.ipynb",
      "provenance": [],
      "collapsed_sections": []
    },
    "kernelspec": {
      "name": "python3",
      "display_name": "Python 3"
    }
  },
  "cells": [
    {
      "cell_type": "code",
      "metadata": {
        "id": "HneQbmvjRQcX"
      },
      "source": [
        "import numpy as np"
      ],
      "execution_count": 2,
      "outputs": []
    },
    {
      "cell_type": "code",
      "metadata": {
        "colab": {
          "base_uri": "https://localhost:8080/"
        },
        "id": "Dj2KLBp8Rq7P",
        "outputId": "4de814b9-2463-4e8f-a883-068c49842c91"
      },
      "source": [
        "array1 = np.arange(30)\r\n",
        "array1.reshape(5,6 ,order = \"F\")\r\n"
      ],
      "execution_count": 11,
      "outputs": [
        {
          "output_type": "execute_result",
          "data": {
            "text/plain": [
              "array([[ 0,  5, 10, 15, 20, 25],\n",
              "       [ 1,  6, 11, 16, 21, 26],\n",
              "       [ 2,  7, 12, 17, 22, 27],\n",
              "       [ 3,  8, 13, 18, 23, 28],\n",
              "       [ 4,  9, 14, 19, 24, 29]])"
            ]
          },
          "metadata": {
            "tags": []
          },
          "execution_count": 11
        }
      ]
    },
    {
      "cell_type": "code",
      "metadata": {
        "id": "yH1ORU5WSCfG",
        "colab": {
          "base_uri": "https://localhost:8080/"
        },
        "outputId": "dace919b-a97c-4f74-889b-b06b925107e5"
      },
      "source": [
        "np.where(array1%6 == 1)"
      ],
      "execution_count": 12,
      "outputs": [
        {
          "output_type": "execute_result",
          "data": {
            "text/plain": [
              "(array([ 1,  7, 13, 19, 25]),)"
            ]
          },
          "metadata": {
            "tags": []
          },
          "execution_count": 12
        }
      ]
    }
  ]
}