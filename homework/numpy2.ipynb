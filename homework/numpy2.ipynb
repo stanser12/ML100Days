{
  "nbformat": 4,
  "nbformat_minor": 0,
  "metadata": {
    "colab": {
      "name": "numpy2.ipynb",
      "provenance": [],
      "collapsed_sections": []
    },
    "kernelspec": {
      "name": "python3",
      "display_name": "Python 3"
    }
  },
  "cells": [
    {
      "cell_type": "code",
      "metadata": {
        "id": "HneQbmvjRQcX"
      },
      "source": [
        "import numpy as np"
      ],
      "execution_count": 2,
      "outputs": []
    },
    {
      "cell_type": "code",
      "metadata": {
        "colab": {
          "base_uri": "https://localhost:8080/"
        },
        "id": "Dj2KLBp8Rq7P",
        "outputId": "5758fffc-f6f7-44fc-87fe-6f02f585cf6a"
      },
      "source": [
        "array1 = np.array(range(30))\r\n",
        "arry=array1.reshape(5,6 ,order = \"F\")\r\n",
        "arry"
      ],
      "execution_count": 25,
      "outputs": [
        {
          "output_type": "execute_result",
          "data": {
            "text/plain": [
              "array([[ 0,  5, 10, 15, 20, 25],\n",
              "       [ 1,  6, 11, 16, 21, 26],\n",
              "       [ 2,  7, 12, 17, 22, 27],\n",
              "       [ 3,  8, 13, 18, 23, 28],\n",
              "       [ 4,  9, 14, 19, 24, 29]])"
            ]
          },
          "metadata": {
            "tags": []
          },
          "execution_count": 25
        }
      ]
    },
    {
      "cell_type": "code",
      "metadata": {
        "id": "yH1ORU5WSCfG",
        "colab": {
          "base_uri": "https://localhost:8080/"
        },
        "outputId": "7426035c-f6c6-4220-d270-bc16d8e416fe"
      },
      "source": [
        "np.where(arry%6 == 1)"
      ],
      "execution_count": 26,
      "outputs": [
        {
          "output_type": "execute_result",
          "data": {
            "text/plain": [
              "(array([0, 1, 2, 3, 4]), array([5, 0, 1, 2, 3]))"
            ]
          },
          "metadata": {
            "tags": []
          },
          "execution_count": 26
        }
      ]
    }
  ]
}