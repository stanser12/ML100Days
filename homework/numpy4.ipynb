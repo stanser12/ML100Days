{
  "nbformat": 4,
  "nbformat_minor": 0,
  "metadata": {
    "colab": {
      "name": "作業Hong題目.ipynb",
      "provenance": [],
      "collapsed_sections": []
    },
    "kernelspec": {
      "name": "python3",
      "display_name": "Python 3"
    }
  },
  "cells": [
    {
      "cell_type": "code",
      "metadata": {
        "id": "J8gYBNBr2Ttc"
      },
      "source": [
        ""
      ],
      "execution_count": null,
      "outputs": []
    },
    {
      "cell_type": "markdown",
      "metadata": {
        "id": "XYM0mQCi2WTY"
      },
      "source": [
        "作業目標<br>\r\n",
        "熟悉邏輯運算<br>\r\n",
        "作業重點<br>\r\n",
        "五大類邏輯函式與其對應的函式操作"
      ]
    },
    {
      "cell_type": "markdown",
      "metadata": {
        "id": "-MPLt0EF2Zto"
      },
      "source": [
        "題目:<br>\r\n",
        "english_score = np.array([55,89,76,65,48,70])<br>\r\n",
        "math_score = np.array([60,85,60,68,55,60])<br>\r\n",
        "chinese_score = np.array([65,90,82,72,66,77])<br>\r\n",
        "上3列共六位同學的英文、數學、國文成績，第一個元素代表第一位同學，舉例第一位同學英文55分、數學60分、國文65分，運用上列數據回答下列問題。<br>\r\n",
        "1. 有多少學生英文成績比數學成績高?\r\n",
        "2. 是否全班同學最高分都是國文?\r\n",
        "\r\n",
        "\r\n"
      ]
    },
    {
      "cell_type": "code",
      "metadata": {
        "id": "owy7B7Us2ZEM"
      },
      "source": [
        "import numpy as np\r\n",
        "import tensorflow"
      ],
      "execution_count": 5,
      "outputs": []
    },
    {
      "cell_type": "code",
      "metadata": {
        "id": "QT8I-DlG8dAT"
      },
      "source": [
        "english_score = np.array([55,89,76,65,48,70])\r\n",
        "math_score = np.array([60,85,60,68,55,60])\r\n",
        "chinese_score = np.array([65,90,82,72,66,77])"
      ],
      "execution_count": 4,
      "outputs": []
    },
    {
      "cell_type": "code",
      "metadata": {
        "id": "i0RGMNH72xkh",
        "colab": {
          "base_uri": "https://localhost:8080/"
        },
        "outputId": "04d6031f-53ed-4c43-df57-a3628b706803"
      },
      "source": [
        "#1.有多少學生英文成績比數學成績高?\r\n",
        "eng_mat=np.greater(english_score,math_score)\r\n",
        "count1 = 0\r\n",
        "eng_mat\r\n",
        "for i in range(len(eng_mat)):\r\n",
        "  if eng_mat[i] == True:\r\n",
        "    count1 +=1\r\n",
        "print(count1)\r\n"
      ],
      "execution_count": 8,
      "outputs": [
        {
          "output_type": "stream",
          "text": [
            "3\n"
          ],
          "name": "stdout"
        }
      ]
    },
    {
      "cell_type": "code",
      "metadata": {
        "id": "F4Hzk1HM8pBZ",
        "colab": {
          "base_uri": "https://localhost:8080/"
        },
        "outputId": "38973e37-980d-4065-d8d0-e2d33723ee79"
      },
      "source": [
        "#2.是否全班同學最高分都是國\r\n",
        "ans = np.logical_and(np.greater(chinese_score,math_score),english_score)\r\n",
        "count2= 0\r\n",
        "for i in range(len(ans)):\r\n",
        "  if ans[i] == True:\r\n",
        "    count2 +=1\r\n",
        "print(count2)"
      ],
      "execution_count": 10,
      "outputs": [
        {
          "output_type": "stream",
          "text": [
            "6\n"
          ],
          "name": "stdout"
        }
      ]
    },
    {
      "cell_type": "code",
      "metadata": {
        "id": "rMeW74sqyIcy"
      },
      "source": [
        ""
      ],
      "execution_count": null,
      "outputs": []
    }
  ]
}