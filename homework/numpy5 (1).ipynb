{
  "nbformat": 4,
  "nbformat_minor": 0,
  "metadata": {
    "colab": {
      "name": "numpy5.ipynb",
      "provenance": [],
      "collapsed_sections": []
    },
    "kernelspec": {
      "name": "python3",
      "display_name": "Python 3"
    }
  },
  "cells": [
    {
      "cell_type": "markdown",
      "metadata": {
        "id": "oef8c2jr-PZY"
      },
      "source": [
        "作業目標<br>\r\n",
        "計算有缺失值的資料，統計量實作<br>\r\n",
        "作業重點<br>\r\n",
        "當遇到缺失值有函式可以處理，不須額外寫程式刪除<br>\r\n",
        "計算統計量時不能出現缺失值"
      ]
    },
    {
      "cell_type": "markdown",
      "metadata": {
        "id": "4YgL8NF4-Ru3"
      },
      "source": [
        "題目:<br>\r\n",
        "english_score = np.array([55,89,76,65,48,70])<br>\r\n",
        "math_score = np.array([60,85,60,68,np.nan,60])<br>\r\n",
        "chinese_score = np.array([65,90,82,72,66,77])<br>\r\n",
        "上3列共六位同學的英文、數學、國文成績，第一個元素代表第一位同學，舉例第一位同學英文55分、數學60分、國文65分，今天第五位同學因某原因沒來考試，導致數學成績缺值，運用上列數據回答下列問題。<br>\r\n",
        "1. 請計算各科成績平均、最大值、最小值、標準差，其中數學缺一筆資料可忽略?\r\n",
        "2. 第五位同學補考數學後成績為55，請計算補考後數學成績平均、最大值、最小值、標準差?\r\n",
        "3. 用補考後資料找出與國文成績相關係數最高的學科?"
      ]
    },
    {
      "cell_type": "code",
      "metadata": {
        "id": "QwsKU8qO-RK7"
      },
      "source": [
        "import numpy as np"
      ],
      "execution_count": 1,
      "outputs": []
    },
    {
      "cell_type": "code",
      "metadata": {
        "id": "B5BqDQAe_czh"
      },
      "source": [
        "english_score = np.array([55,89,76,65,48,70])\r\n",
        "math_score = np.array([60,85,60,68,np.nan,60])\r\n",
        "chinese_score = np.array([65,90,82,72,66,77])"
      ],
      "execution_count": 2,
      "outputs": []
    },
    {
      "cell_type": "code",
      "metadata": {
        "id": "K3tUA6u9aI3N",
        "colab": {
          "base_uri": "https://localhost:8080/"
        },
        "outputId": "74d269a3-8e7a-4cb0-a013-b8467532a9ed"
      },
      "source": [
        "#1. 請計算各科成績平均、最大值、最小值、標準差，其中數學缺一筆資料可忽略?\r\n",
        "print('Englis')\r\n",
        "print(f'平均:{np.mean(english_score)}')\r\n",
        "print(f'最大值:{np.max(english_score)}')\r\n",
        "print(f'最小值:{np.min(english_score)}')\r\n",
        "print(f'標準差:{np.std(english_score)}')\r\n",
        "\r\n",
        "print( '-----------------------' )\r\n",
        "print('Math')\r\n",
        "print(f'平均:{np.nanmean(math_score)}')\r\n",
        "print(f'最大值:{np.nanmax(math_score)}')\r\n",
        "print(f'最小值:{np.nanmin(math_score)}')\r\n",
        "print(f'標準差:{np.std(math_score)}')\r\n",
        "\r\n",
        "print( '-----------------------' )\r\n",
        "print('Chinese')\r\n",
        "print(f'平均:{np.mean(chinese_score)}')\r\n",
        "print(f'最大值:{np.max(chinese_score)}')\r\n",
        "print(f'最小值:{np.min(chinese_score)}')\r\n",
        "print(f'標準差:{np.std(chinese_score)}')\r\n",
        "\r\n"
      ],
      "execution_count": 3,
      "outputs": [
        {
          "output_type": "stream",
          "text": [
            "Englis\n",
            "平均:67.16666666666667\n",
            "最大值:89\n",
            "最小值:48\n",
            "標準差:13.433995020924426\n",
            "-----------------------\n",
            "Math\n",
            "平均:66.6\n",
            "最大值:85.0\n",
            "最小值:60.0\n",
            "標準差:nan\n",
            "-----------------------\n",
            "Chinese\n",
            "平均:75.33333333333333\n",
            "最大值:90\n",
            "最小值:65\n",
            "標準差:8.825468196582484\n"
          ],
          "name": "stdout"
        }
      ]
    },
    {
      "cell_type": "code",
      "metadata": {
        "id": "mXjDzvSrbLlf",
        "colab": {
          "base_uri": "https://localhost:8080/"
        },
        "outputId": "ff55069b-5085-4128-8368-40408077946c"
      },
      "source": [
        "#2. 第五位同學補考數學後成績為55，請計算補考後數學成績平均、最大值、最小值、標準差?\r\n",
        "math_score[4]= 55\r\n",
        "\r\n",
        "print(f'平均:{np.mean(math_score)}')\r\n",
        "print(f'最大值:{np.max(math_score)}')\r\n",
        "print(f'最小值:{np.min(math_score)}')\r\n",
        "print(f'標準差:{np.std(math_score)}')"
      ],
      "execution_count": 4,
      "outputs": [
        {
          "output_type": "stream",
          "text": [
            "平均:64.66666666666667\n",
            "最大值:85.0\n",
            "最小值:55.0\n",
            "標準差:9.860132971832694\n"
          ],
          "name": "stdout"
        }
      ]
    },
    {
      "cell_type": "code",
      "metadata": {
        "id": "SaGolKx0cKoU"
      },
      "source": [
        "#3. 用補考後資料找出與國文成績相關係數最高的學科?\r\n"
      ],
      "execution_count": 5,
      "outputs": []
    },
    {
      "cell_type": "code",
      "metadata": {
        "id": "FfH0wTOZjnbV"
      },
      "source": [
        "ch_ma = np.corrcoef(chinese_score,math_score) "
      ],
      "execution_count": 6,
      "outputs": []
    },
    {
      "cell_type": "code",
      "metadata": {
        "id": "REG0fm5VkNaj"
      },
      "source": [
        "ch_en= np.corrcoef(chinese_score, english_score)"
      ],
      "execution_count": 7,
      "outputs": []
    },
    {
      "cell_type": "code",
      "metadata": {
        "colab": {
          "base_uri": "https://localhost:8080/"
        },
        "id": "SIyszuR5kU_k",
        "outputId": "4b4761d1-1c2e-4c9e-fc2e-e7c8f06f0235"
      },
      "source": [
        "np.greater_equal(abs(ch_ma),abs(ch_en))\r\n",
        "# Chinese and English 相關性最高"
      ],
      "execution_count": 8,
      "outputs": [
        {
          "output_type": "execute_result",
          "data": {
            "text/plain": [
              "array([[ True, False],\n",
              "       [False,  True]])"
            ]
          },
          "metadata": {
            "tags": []
          },
          "execution_count": 8
        }
      ]
    },
    {
      "cell_type": "code",
      "metadata": {
        "id": "dfwOtVajkkwR"
      },
      "source": [
        ""
      ],
      "execution_count": 8,
      "outputs": []
    },
    {
      "cell_type": "code",
      "metadata": {
        "id": "fTNlLZ9Pzyiy"
      },
      "source": [
        ""
      ],
      "execution_count": 8,
      "outputs": []
    }
  ]
}