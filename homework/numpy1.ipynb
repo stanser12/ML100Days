{
  "nbformat": 4,
  "nbformat_minor": 0,
  "metadata": {
    "colab": {
      "name": "numpy1.ipynb",
      "provenance": []
    },
    "kernelspec": {
      "name": "python3",
      "display_name": "Python 3"
    }
  },
  "cells": [
    {
      "cell_type": "code",
      "metadata": {
        "id": "-iatpNkc7FtP"
      },
      "source": [
        "import numpy as np"
      ],
      "execution_count": null,
      "outputs": []
    },
    {
      "cell_type": "code",
      "metadata": {
        "colab": {
          "base_uri": "https://localhost:8080/"
        },
        "id": "msoUt2tH7OMr",
        "outputId": "335726a1-fdd6-4b7a-90e3-701a052c762e"
      },
      "source": [
        "alist = np.arange(0,21)\n",
        "alist.astype('float')\n",
        "alist"
      ],
      "execution_count": null,
      "outputs": [
        {
          "output_type": "execute_result",
          "data": {
            "text/plain": [
              "array([ 0,  1,  2,  3,  4,  5,  6,  7,  8,  9, 10, 11, 12, 13, 14, 15, 16,\n",
              "       17, 18, 19, 20])"
            ]
          },
          "metadata": {
            "tags": []
          },
          "execution_count": 14
        }
      ]
    },
    {
      "cell_type": "code",
      "metadata": {
        "colab": {
          "base_uri": "https://localhost:8080/"
        },
        "id": "YxFJLtpcBod-",
        "outputId": "c91e93ef-913d-4c2d-b084-cc84a1969791"
      },
      "source": [
        " \n",
        "blist=[]\n",
        "clist=[]\n",
        "for i in range(1,21):\n",
        "     if alist[i] %2== 0:\n",
        "        blist.append(alist[i])\n",
        "     if alist[i]%3==0:\n",
        "        clist.append(alist[i])\n",
        "blist"
      ],
      "execution_count": null,
      "outputs": [
        {
          "output_type": "execute_result",
          "data": {
            "text/plain": [
              "[2, 4, 6, 8, 10, 12, 14, 16, 18, 20]"
            ]
          },
          "metadata": {
            "tags": []
          },
          "execution_count": 26
        }
      ]
    },
    {
      "cell_type": "code",
      "metadata": {
        "id": "M32tE5ApEMFI",
        "colab": {
          "base_uri": "https://localhost:8080/"
        },
        "outputId": "1f12a997-949f-41e3-ad2a-12a6a1222233"
      },
      "source": [
        "clist"
      ],
      "execution_count": null,
      "outputs": [
        {
          "output_type": "execute_result",
          "data": {
            "text/plain": [
              "[3, 6, 9, 12, 15, 18]"
            ]
          },
          "metadata": {
            "tags": []
          },
          "execution_count": 31
        }
      ]
    }
  ]
}