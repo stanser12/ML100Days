{
  "nbformat": 4,
  "nbformat_minor": 0,
  "metadata": {
    "colab": {
      "name": "numpy7.ipynb",
      "provenance": [],
      "collapsed_sections": []
    },
    "kernelspec": {
      "name": "python3",
      "display_name": "Python 3"
    }
  },
  "cells": [
    {
      "cell_type": "code",
      "metadata": {
        "id": "g7_Zhb9Bif-K"
      },
      "source": [
        ""
      ],
      "execution_count": null,
      "outputs": []
    },
    {
      "cell_type": "markdown",
      "metadata": {
        "id": "GLhLqOtlj1fc"
      },
      "source": [
        "作業目標<br>\r\n",
        "活用矩陣運算，實做線性代數<br>\r\n",
        "作業重點<br>\r\n",
        "線性代數公式應用<br>\r\n",
        "矩陣相乘維度需要對好，例如:2X3矩陣乘上3X5矩陣得到2X5矩陣"
      ]
    },
    {
      "cell_type": "markdown",
      "metadata": {
        "id": "Rq6NRNxLj4w1"
      },
      "source": [
        "題目:<br>\r\n",
        "array1 = np.array([[10, 8], [3, 5]]) <br>\r\n",
        "1. 運用上列array計算反矩陣，乘上原矩陣，並觀察是否為單位矩陣?\r\n",
        "2. 運用上列array計算特徵值、特徵向量?\r\n",
        "3. 運用上列array計算SVD?"
      ]
    },
    {
      "cell_type": "code",
      "metadata": {
        "id": "YakNatIPj3CW"
      },
      "source": [
        "import numpy as np"
      ],
      "execution_count": 3,
      "outputs": []
    },
    {
      "cell_type": "code",
      "metadata": {
        "id": "QT4ntMV1kR1c",
        "colab": {
          "base_uri": "https://localhost:8080/"
        },
        "outputId": "89e17bbc-a846-4a4d-dd11-73e53048b81a"
      },
      "source": [
        "#1. 運用上列array計算反矩陣，乘上原矩陣，並觀察是否為單位矩陣?\r\n",
        "array1 = np.array([[10, 8], [3, 5]])\r\n",
        "array2 = np.linalg.inv(array1)\r\n",
        "oarray = np.matmul(array1, array2)\r\n",
        "oarray"
      ],
      "execution_count": 10,
      "outputs": [
        {
          "output_type": "execute_result",
          "data": {
            "text/plain": [
              "array([[1., 0.],\n",
              "       [0., 1.]])"
            ]
          },
          "metadata": {
            "tags": []
          },
          "execution_count": 10
        }
      ]
    },
    {
      "cell_type": "code",
      "metadata": {
        "id": "9f7cVxwwk-y9"
      },
      "source": [
        "#2. 運用上列array計算特徵值、特徵向量?\r\n",
        "x, y = np.linalg.eig(array1)\r\n"
      ],
      "execution_count": 11,
      "outputs": []
    },
    {
      "cell_type": "code",
      "metadata": {
        "colab": {
          "base_uri": "https://localhost:8080/"
        },
        "id": "G_k16Bmmvdy8",
        "outputId": "830e8567-fe96-49b5-f9a0-a12d4517289c"
      },
      "source": [
        "x,y\r\n"
      ],
      "execution_count": 18,
      "outputs": [
        {
          "output_type": "execute_result",
          "data": {
            "text/plain": [
              "(array([13.,  2.]), array([[ 0.93632918, -0.70710678],\n",
              "        [ 0.35112344,  0.70710678]]))"
            ]
          },
          "metadata": {
            "tags": []
          },
          "execution_count": 18
        }
      ]
    },
    {
      "cell_type": "code",
      "metadata": {
        "id": "OHSs5etxnL8D"
      },
      "source": [
        "#3. 運用上列array計算SVD?"
      ],
      "execution_count": null,
      "outputs": []
    },
    {
      "cell_type": "code",
      "metadata": {
        "id": "5BaVZFRvpXZo"
      },
      "source": [
        "u , s , vh = np.linalg.svd(array1)\r\n"
      ],
      "execution_count": 19,
      "outputs": []
    },
    {
      "cell_type": "code",
      "metadata": {
        "colab": {
          "base_uri": "https://localhost:8080/"
        },
        "id": "5W_QuhGWwIen",
        "outputId": "b2defc66-e153-496d-dd22-ffc0b6d76475"
      },
      "source": [
        "u"
      ],
      "execution_count": 20,
      "outputs": [
        {
          "output_type": "execute_result",
          "data": {
            "text/plain": [
              "array([[-0.91663818, -0.39971796],\n",
              "       [-0.39971796,  0.91663818]])"
            ]
          },
          "metadata": {
            "tags": []
          },
          "execution_count": 20
        }
      ]
    },
    {
      "cell_type": "code",
      "metadata": {
        "colab": {
          "base_uri": "https://localhost:8080/"
        },
        "id": "6fSQ1QOjwJDi",
        "outputId": "00472fc2-316d-45fa-d299-d2eb7f73c81b"
      },
      "source": [
        "s"
      ],
      "execution_count": 21,
      "outputs": [
        {
          "output_type": "execute_result",
          "data": {
            "text/plain": [
              "array([13.94721714,  1.86417116])"
            ]
          },
          "metadata": {
            "tags": []
          },
          "execution_count": 21
        }
      ]
    },
    {
      "cell_type": "code",
      "metadata": {
        "colab": {
          "base_uri": "https://localhost:8080/"
        },
        "id": "ZGGmC1RnwJjj",
        "outputId": "d78561f0-6bb1-4669-d02f-f0a2067d88be"
      },
      "source": [
        "vh"
      ],
      "execution_count": 22,
      "outputs": [
        {
          "output_type": "execute_result",
          "data": {
            "text/plain": [
              "array([[-0.74319741, -0.6690722 ],\n",
              "       [-0.6690722 ,  0.74319741]])"
            ]
          },
          "metadata": {
            "tags": []
          },
          "execution_count": 22
        }
      ]
    },
    {
      "cell_type": "markdown",
      "metadata": {
        "id": "FkKo2gsNv_IZ"
      },
      "source": [
        ""
      ]
    }
  ]
}