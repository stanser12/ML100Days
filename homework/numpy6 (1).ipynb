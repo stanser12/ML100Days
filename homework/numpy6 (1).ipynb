{
  "nbformat": 4,
  "nbformat_minor": 0,
  "metadata": {
    "colab": {
      "name": "numpy6.ipynb",
      "provenance": [],
      "collapsed_sections": []
    },
    "kernelspec": {
      "name": "python3",
      "display_name": "Python 3"
    }
  },
  "cells": [
    {
      "cell_type": "code",
      "metadata": {
        "id": "jbkK8wprdbdY"
      },
      "source": [
        ""
      ],
      "execution_count": null,
      "outputs": []
    },
    {
      "cell_type": "markdown",
      "metadata": {
        "id": "YWb4mnd4fqAG"
      },
      "source": [
        "作業目標<br>\r\n",
        "讀取存取陣列資料<br>\r\n",
        "作業重點<br>\r\n",
        "多陣列存一起需要存成npz，讀取須注意npz中有多個陣列"
      ]
    },
    {
      "cell_type": "markdown",
      "metadata": {
        "id": "UXV4vW6IfsW6"
      },
      "source": [
        "題目:<br>\r\n",
        "1. 將下兩列array存成npz檔<br>\r\n",
        "array1 = np.array(range(30))<br>\r\n",
        "array2 = np.array([2,3,5])<br>\r\n",
        "2. 讀取剛剛的npz檔，加入下列array一起存成新的npz檔\r\n"
      ]
    },
    {
      "cell_type": "code",
      "metadata": {
        "id": "1mZQSUx_fry7"
      },
      "source": [
        "#. 將下兩列array存成npz檔\r\n",
        "import numpy as np\r\n",
        "array1 = np.array(range(30))\r\n",
        "array2 = np.array([2,3,5])\r\n",
        "\r\n",
        "with open('array1.npz','wb') as newarray:\r\n",
        "  np.savez(newarray, array1=array1, array2 = array2)"
      ],
      "execution_count": 3,
      "outputs": []
    },
    {
      "cell_type": "code",
      "metadata": {
        "id": "Ie1TGcssiIDN"
      },
      "source": [
        "#2. 讀取剛剛的npz檔，加入下列array一起存成新的npz檔"
      ],
      "execution_count": 4,
      "outputs": []
    },
    {
      "cell_type": "code",
      "metadata": {
        "id": "Hn6dGHwqp7NJ"
      },
      "source": [
        "arr3 = np.array([1,2,3,4])\r\n",
        "\r\n",
        "file = np.load('array1.npz')\r\n",
        "\r\n",
        "with open('array2.npz','wb') as newarray:\r\n",
        "  np.savez(newarray,array1 = file['array1'], array2 = file['array2'\r\n",
        "  ], array3 = arr3)"
      ],
      "execution_count": 5,
      "outputs": []
    }
  ]
}