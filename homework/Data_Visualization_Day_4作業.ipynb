{
  "nbformat": 4,
  "nbformat_minor": 0,
  "metadata": {
    "colab": {
      "name": "Data_Visualization_Day_4作業.ipynb",
      "provenance": []
    },
    "kernelspec": {
      "display_name": "Python 3",
      "language": "python",
      "name": "python3"
    },
    "language_info": {
      "codemirror_mode": {
        "name": "ipython",
        "version": 3
      },
      "file_extension": ".py",
      "mimetype": "text/x-python",
      "name": "python",
      "nbconvert_exporter": "python",
      "pygments_lexer": "ipython3",
      "version": "3.6.5"
    }
  },
  "cells": [
    {
      "cell_type": "markdown",
      "metadata": {
        "id": "q-gigy72KsQ7"
      },
      "source": [
        "目標: 使用 Seaborn 自帶的dataset, 利用 PANDAS 處理來繪製資料集的可是畫圖表\n",
        "\n",
        "重點: 不同型態的類別要套用的對應圖像是不一樣的\n",
        "\n",
        "作業: 取得另一個 dataset: titanic, \n",
        "\n",
        "(1) 做條形圖\n",
        "\n",
        "(2) 利用 facet grid 繪圖並分析\n",
        "\n",
        "(3) 繪製小提琴圖\n"
      ]
    },
    {
      "cell_type": "code",
      "metadata": {
        "id": "1aQwvVYyLQAa"
      },
      "source": [
        "# 導入必要的程式庫\n",
        "import pandas as pd\n",
        "import seaborn as sns\n",
        "from matplotlib import pyplot as plt\n",
        "\n",
        "# 取得資料集\n",
        "df = sns.load_dataset('titanic')\n"
      ],
      "execution_count": 1,
      "outputs": []
    },
    {
      "cell_type": "code",
      "metadata": {
        "colab": {
          "base_uri": "https://localhost:8080/"
        },
        "id": "XYhQE52jLhRW",
        "outputId": "cf84647b-abaa-421c-9c7b-e4485a3fc66f"
      },
      "source": [
        "df.info()"
      ],
      "execution_count": 2,
      "outputs": [
        {
          "output_type": "stream",
          "text": [
            "<class 'pandas.core.frame.DataFrame'>\n",
            "RangeIndex: 891 entries, 0 to 890\n",
            "Data columns (total 15 columns):\n",
            " #   Column       Non-Null Count  Dtype   \n",
            "---  ------       --------------  -----   \n",
            " 0   survived     891 non-null    int64   \n",
            " 1   pclass       891 non-null    int64   \n",
            " 2   sex          891 non-null    object  \n",
            " 3   age          714 non-null    float64 \n",
            " 4   sibsp        891 non-null    int64   \n",
            " 5   parch        891 non-null    int64   \n",
            " 6   fare         891 non-null    float64 \n",
            " 7   embarked     889 non-null    object  \n",
            " 8   class        891 non-null    category\n",
            " 9   who          891 non-null    object  \n",
            " 10  adult_male   891 non-null    bool    \n",
            " 11  deck         203 non-null    category\n",
            " 12  embark_town  889 non-null    object  \n",
            " 13  alive        891 non-null    object  \n",
            " 14  alone        891 non-null    bool    \n",
            "dtypes: bool(2), category(2), float64(2), int64(4), object(5)\n",
            "memory usage: 80.6+ KB\n"
          ],
          "name": "stdout"
        }
      ]
    },
    {
      "cell_type": "code",
      "metadata": {
        "colab": {
          "base_uri": "https://localhost:8080/",
          "height": 279
        },
        "id": "9ydYgLopMvK-",
        "outputId": "6f92a6e3-969d-4645-8584-b7dc88fc51f1"
      },
      "source": [
        "# 直接使用PANDAS dataframe, 當作參數\n",
        "#條形圖()顯示分類變數和連續變數之間的關係。數據以矩形條表示,其中條的長度表示該類別中數據的比例。\n",
        "'''\n",
        "在這邊coding\n",
        "sns.barplot\n",
        "'''\n",
        "sns.barplot( x = 'sex' , y = 'survived' , hue = 'class', data = df)\n",
        "plt.show()"
      ],
      "execution_count": 4,
      "outputs": [
        {
          "output_type": "display_data",
          "data": {
            "image/png": "[encoded data removed]",
            "text/plain": [
              "<Figure size 432x288 with 1 Axes>"
            ]
          },
          "metadata": {
            "tags": [],
            "needs_background": "light"
          }
        }
      ]
    },
    {
      "cell_type": "markdown",
      "metadata": {
        "id": "YBNLtpZT9cUn"
      },
      "source": [
        "在上面的示例中,我們可以看到每個班級中男性和女性的平均存活率。從情節中,我們可以理解,女性存活人數比男性多。在男性和女性中,更多的存活率來自頭等艙。\n",
        "\n",
        "barplot 中的特殊情況是顯示每個類別中的觀測值的\"否\",而不是計算第二個變數的統計資訊。\n",
        "\n"
      ]
    },
    {
      "cell_type": "markdown",
      "metadata": {
        "id": "AJW0HUUryOnQ"
      },
      "source": [
        "\n",
        "繪製數據子集的小倍數。 FacetGrid 示例,\n",
        "\n",
        "FacetGrid 類有助於可視化一個變數的分佈,以及使用多個面板在數據集子集中分別顯示多個變數之間的關係。"
      ]
    },
    {
      "cell_type": "code",
      "metadata": {
        "colab": {
          "base_uri": "https://localhost:8080/",
          "height": 35
        },
        "id": "Y-Rq62uUcb35",
        "outputId": "21a04d27-f29f-4f11-d19b-c448aa6058c3"
      },
      "source": [
        "sns.__version__"
      ],
      "execution_count": 5,
      "outputs": [
        {
          "output_type": "execute_result",
          "data": {
            "application/vnd.google.colaboratory.intrinsic+json": {
              "type": "string"
            },
            "text/plain": [
              "'0.11.1'"
            ]
          },
          "metadata": {
            "tags": []
          },
          "execution_count": 5
        }
      ]
    },
    {
      "cell_type": "code",
      "metadata": {
        "colab": {
          "base_uri": "https://localhost:8080/",
          "height": 225
        },
        "id": "6AfkVr8FKaiw",
        "outputId": "6ad34456-51fd-4a57-be2a-3a1508c525da"
      },
      "source": [
        "# 瞭解性別在各艙等的分布的存活率\n",
        "'''\n",
        "在這邊coding\n",
        "g = sns.FacetGrid\n",
        "g.map\n",
        "'''\n",
        "g = sns.FacetGrid(df, col = 'survived')\n",
        "\n",
        "g.map(plt.hist , 'sex' )\n",
        "plt.show()"
      ],
      "execution_count": 6,
      "outputs": [
        {
          "output_type": "display_data",
          "data": {
            "image/png": "[encoded data removed]",
            "text/plain": [
              "<Figure size 432x216 with 2 Axes>"
            ]
          },
          "metadata": {
            "tags": [],
            "needs_background": "light"
          }
        }
      ]
    },
    {
      "cell_type": "code",
      "metadata": {
        "colab": {
          "base_uri": "https://localhost:8080/",
          "height": 341
        },
        "id": "r6gKtgS1Emes",
        "outputId": "b5f59c6f-8f4a-4faa-9b25-e37902d04245"
      },
      "source": [
        "#先檢視各艙位存活人數，此時可以使用groupby函數進行分類，\n",
        "#其中 survived＝1表示存活，survived＝0表示死亡，將survived加總即為各艙等生存人數。\n",
        "\n",
        "df.groupby('pclass').survived.sum()\n",
        "\n",
        "#加上性別\n",
        "survived=df.groupby(['pclass','sex']).survived.sum()\n",
        "survived.plot(kind='bar')"
      ],
      "execution_count": null,
      "outputs": [
        {
          "output_type": "execute_result",
          "data": {
            "text/plain": [
              "<matplotlib.axes._subplots.AxesSubplot at 0x7ff8aa3b75c0>"
            ]
          },
          "metadata": {
            "tags": []
          },
          "execution_count": 62
        },
        {
          "output_type": "display_data",
          "data": {
            "image/png": "[encoded data removed]",
            "text/plain": [
              "<Figure size 432x288 with 1 Axes>"
            ]
          },
          "metadata": {
            "tags": []
          }
        }
      ]
    },
    {
      "cell_type": "code",
      "metadata": {
        "colab": {
          "base_uri": "https://localhost:8080/",
          "height": 266
        },
        "id": "HQvoM0jKEmg0",
        "outputId": "25671ce2-f6ff-4293-830e-4637c6df406b"
      },
      "source": [
        "#使用pd.crosstab函數繪製交叉表，交叉表可以很直觀的依據艙位等級及性別來查看存活人數及死亡人數。\n",
        "#繪製堆疊條形圖，x軸代表依據艙等分成男性及女性，y軸代表人數，其中藍色代表死亡人數，橘色代表存活人數。\n",
        "survived_counts = pd.crosstab([df.pclass, df.sex],df.survived)\n",
        "survived_counts "
      ],
      "execution_count": 7,
      "outputs": [
        {
          "output_type": "execute_result",
          "data": {
            "text/html": [
              "<div>\n",
              "<style scoped>\n",
              "    .dataframe tbody tr th:only-of-type {\n",
              "        vertical-align: middle;\n",
              "    }\n",
              "\n",
              "    .dataframe tbody tr th {\n",
              "        vertical-align: top;\n",
              "    }\n",
              "\n",
              "    .dataframe thead th {\n",
              "        text-align: right;\n",
              "    }\n",
              "</style>\n",
              "<table border=\"1\" class=\"dataframe\">\n",
              "  <thead>\n",
              "    <tr style=\"text-align: right;\">\n",
              "      <th></th>\n",
              "      <th>survived</th>\n",
              "      <th>0</th>\n",
              "      <th>1</th>\n",
              "    </tr>\n",
              "    <tr>\n",
              "      <th>pclass</th>\n",
              "      <th>sex</th>\n",
              "      <th></th>\n",
              "      <th></th>\n",
              "    </tr>\n",
              "  </thead>\n",
              "  <tbody>\n",
              "    <tr>\n",
              "      <th rowspan=\"2\" valign=\"top\">1</th>\n",
              "      <th>female</th>\n",
              "      <td>3</td>\n",
              "      <td>91</td>\n",
              "    </tr>\n",
              "    <tr>\n",
              "      <th>male</th>\n",
              "      <td>77</td>\n",
              "      <td>45</td>\n",
              "    </tr>\n",
              "    <tr>\n",
              "      <th rowspan=\"2\" valign=\"top\">2</th>\n",
              "      <th>female</th>\n",
              "      <td>6</td>\n",
              "      <td>70</td>\n",
              "    </tr>\n",
              "    <tr>\n",
              "      <th>male</th>\n",
              "      <td>91</td>\n",
              "      <td>17</td>\n",
              "    </tr>\n",
              "    <tr>\n",
              "      <th rowspan=\"2\" valign=\"top\">3</th>\n",
              "      <th>female</th>\n",
              "      <td>72</td>\n",
              "      <td>72</td>\n",
              "    </tr>\n",
              "    <tr>\n",
              "      <th>male</th>\n",
              "      <td>300</td>\n",
              "      <td>47</td>\n",
              "    </tr>\n",
              "  </tbody>\n",
              "</table>\n",
              "</div>"
            ],
            "text/plain": [
              "survived         0   1\n",
              "pclass sex            \n",
              "1      female    3  91\n",
              "       male     77  45\n",
              "2      female    6  70\n",
              "       male     91  17\n",
              "3      female   72  72\n",
              "       male    300  47"
            ]
          },
          "metadata": {
            "tags": []
          },
          "execution_count": 7
        }
      ]
    },
    {
      "cell_type": "code",
      "metadata": {
        "colab": {
          "base_uri": "https://localhost:8080/",
          "height": 341
        },
        "id": "rt_WucueJXfa",
        "outputId": "a8a9d1a6-92ea-40b4-dee0-016dcfdf15d6"
      },
      "source": [
        "'''\n",
        "在這邊coding\n",
        "使用survived_counts.plot做對照組\n",
        "'''\n",
        "survived_counts.plot(kind = 'bar', stacked = True)"
      ],
      "execution_count": 9,
      "outputs": [
        {
          "output_type": "execute_result",
          "data": {
            "text/plain": [
              "<matplotlib.axes._subplots.AxesSubplot at 0x7f7a447d4470>"
            ]
          },
          "metadata": {
            "tags": []
          },
          "execution_count": 9
        },
        {
          "output_type": "display_data",
          "data": {
            "image/png": "[encoded data removed]",
            "text/plain": [
              "<Figure size 432x288 with 1 Axes>"
            ]
          },
          "metadata": {
            "tags": [],
            "needs_background": "light"
          }
        }
      ]
    },
    {
      "cell_type": "code",
      "metadata": {
        "id": "aH2xbYj9xdYo"
      },
      "source": [
        ""
      ],
      "execution_count": null,
      "outputs": []
    },
    {
      "cell_type": "code",
      "metadata": {
        "colab": {
          "base_uri": "https://localhost:8080/",
          "height": 279
        },
        "id": "pRYfeRVMKetm",
        "outputId": "b2464db5-ba46-4edc-c773-48f86c114dc8"
      },
      "source": [
        "# 直接使用PANDAS dataframe, 當作參數\n",
        "#條形圖()顯示分類變數和連續變數之間的關係。數據以矩形條表示,其中條的長度表示該類別中數據的比例。\n",
        "\n",
        "'''\n",
        "在這邊coding\n",
        "sns.violinplot\n",
        "'''\n",
        "sns.violinplot(data = survived_counts)\n",
        "plt.show()"
      ],
      "execution_count": 10,
      "outputs": [
        {
          "output_type": "display_data",
          "data": {
            "image/png": "[encoded data removed]",
            "text/plain": [
              "<Figure size 432x288 with 1 Axes>"
            ]
          },
          "metadata": {
            "tags": [],
            "needs_background": "light"
          }
        }
      ]
    },
    {
      "cell_type": "code",
      "metadata": {
        "id": "Pk8RXLriMe-c"
      },
      "source": [
        "# 瞭解性別在各艙等的分布的存活率\n",
        "'''\n",
        "在這邊coding\n",
        "g = sns.FacetGrid\n",
        "g.map\n",
        "h = sns.FacetGrid\n",
        "h.map\n",
        "'''\n",
        "g = sns.FacetGrid(df, col = 'survived')\n",
        "g.map(plt.hist, 'pclass')\n",
        "plt.show()\n",
        "\n",
        "h = sns.FacetGrid(df, col = 'survived')\n",
        "h.map(plt.hist , 'sex')\n",
        "plt.show()\n",
        "\n",
        "# PS: 跟第一次做 Face.Grid 有何不同??"
      ],
      "execution_count": null,
      "outputs": []
    },
    {
      "cell_type": "code",
      "metadata": {
        "colab": {
          "base_uri": "https://localhost:8080/",
          "height": 433
        },
        "id": "IQeutMZu5YpB",
        "outputId": "d85197bb-bfb8-4090-e78b-9cf30eb782e6"
      },
      "source": [
        "k = sns.FacetGrid(df , col = 'survived')\r\n",
        "k.map(plt.hist, 'age')\r\n",
        "plt.show()\r\n",
        "\r\n",
        "j = sns.FacetGrid(df , col = 'class')\r\n",
        "j.map(plt.hist , 'age')\r\n",
        "plt.show()"
      ],
      "execution_count": 18,
      "outputs": [
        {
          "output_type": "display_data",
          "data": {
            "image/png": "[encoded data removed]",
            "text/plain": [
              "<Figure size 432x216 with 2 Axes>"
            ]
          },
          "metadata": {
            "tags": [],
            "needs_background": "light"
          }
        },
        {
          "output_type": "display_data",
          "data": {
            "image/png": "[encoded data removed]",
            "text/plain": [
              "<Figure size 648x216 with 3 Axes>"
            ]
          },
          "metadata": {
            "tags": [],
            "needs_background": "light"
          }
        }
      ]
    },
    {
      "cell_type": "markdown",
      "metadata": {
        "id": "ylzsxRLV4MJm"
      },
      "source": [
        "\n",
        "可以嘗試其他的參數對照組合\n",
        "\n",
        " 0   survived        \n",
        " 1   pclass         \n",
        " 2   sex            \n",
        " 3   age          \n",
        " 5   parch           \n",
        " 6   fare        \n",
        " 7   embarked   \n",
        " 8   class   \n",
        " 9   who           \n",
        " 10  adult_male   \n",
        " 11  deck      \n",
        " 12  embark_town   \n",
        " 13  alive         \n",
        " 14  alone        "
      ]
    }
  ]
}