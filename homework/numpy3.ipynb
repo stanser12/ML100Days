{
  "nbformat": 4,
  "nbformat_minor": 0,
  "metadata": {
    "colab": {
      "name": "numpy3.ipynb",
      "provenance": []
    },
    "kernelspec": {
      "name": "python3",
      "display_name": "Python 3"
    }
  },
  "cells": [
    {
      "cell_type": "code",
      "metadata": {
        "id": "7jN44RnAbjA3"
      },
      "source": [
        "import numpy as np"
      ],
      "execution_count": 39,
      "outputs": []
    },
    {
      "cell_type": "code",
      "metadata": {
        "colab": {
          "base_uri": "https://localhost:8080/"
        },
        "id": "uOabCvrAbl5O",
        "outputId": "0374c06c-ebee-48c0-9c81-bcc419a6dde7"
      },
      "source": [
        "# g=20log(v1/v0)\r\n",
        "v0=20\r\n",
        "gb = 20 * np.log10( 20000 / v0 )\r\n",
        "gb"
      ],
      "execution_count": 40,
      "outputs": [
        {
          "output_type": "execute_result",
          "data": {
            "text/plain": [
              "60.0"
            ]
          },
          "metadata": {
            "tags": []
          },
          "execution_count": 40
        }
      ]
    },
    {
      "cell_type": "code",
      "metadata": {
        "colab": {
          "base_uri": "https://localhost:8080/"
        },
        "id": "WMBuxRQumcWA",
        "outputId": "9eac0987-73a9-4b2e-a10a-6dd21509fa32"
      },
      "source": [
        "gb1= (10**(30/20)*v0)/(10**(50/20)*v0)\r\n",
        "gb1"
      ],
      "execution_count": 42,
      "outputs": [
        {
          "output_type": "execute_result",
          "data": {
            "text/plain": [
              "0.09999999999999999"
            ]
          },
          "metadata": {
            "tags": []
          },
          "execution_count": 42
        }
      ]
    }
  ]
}