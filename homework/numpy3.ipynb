{
  "nbformat": 4,
  "nbformat_minor": 0,
  "metadata": {
    "colab": {
      "name": "numpy3.ipynb",
      "provenance": []
    },
    "kernelspec": {
      "name": "python3",
      "display_name": "Python 3"
    }
  },
  "cells": [
    {
      "cell_type": "code",
      "metadata": {
        "id": "7jN44RnAbjA3"
      },
      "source": [
        "import numpy as np"
      ],
      "execution_count": 1,
      "outputs": []
    },
    {
      "cell_type": "code",
      "metadata": {
        "colab": {
          "base_uri": "https://localhost:8080/"
        },
        "id": "uOabCvrAbl5O",
        "outputId": "99e08f6e-887f-470d-f2b4-ae54509cd433"
      },
      "source": [
        "# g=20log(v1/v0)\r\n",
        "\r\n",
        "gb = 20 * np.log10( 20000 / 20 )\r\n",
        "gb"
      ],
      "execution_count": 6,
      "outputs": [
        {
          "output_type": "execute_result",
          "data": {
            "text/plain": [
              "60.0"
            ]
          },
          "metadata": {
            "tags": []
          },
          "execution_count": 6
        }
      ]
    },
    {
      "cell_type": "code",
      "metadata": {
        "colab": {
          "base_uri": "https://localhost:8080/"
        },
        "id": "WMBuxRQumcWA",
        "outputId": "8275b05d-7f6e-4dfd-f2a6-16a264cd0edf"
      },
      "source": [
        "gb1= ((30+20*np.log10(20))/20)/((50+20*np.log10(20))/20)\r\n",
        "gb1 = np.round(gb1, decimals=2)\r\n",
        "gb1"
      ],
      "execution_count": 38,
      "outputs": [
        {
          "output_type": "execute_result",
          "data": {
            "text/plain": [
              "0.74"
            ]
          },
          "metadata": {
            "tags": []
          },
          "execution_count": 38
        }
      ]
    }
  ]
}