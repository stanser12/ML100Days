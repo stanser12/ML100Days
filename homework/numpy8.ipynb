{
  "nbformat": 4,
  "nbformat_minor": 0,
  "metadata": {
    "colab": {
      "name": "numpy8.ipynb",
      "provenance": [],
      "collapsed_sections": []
    },
    "kernelspec": {
      "name": "python3",
      "display_name": "Python 3"
    }
  },
  "cells": [
    {
      "cell_type": "code",
      "metadata": {
        "id": "4klYNT34p73l"
      },
      "source": [
        ""
      ],
      "execution_count": null,
      "outputs": []
    },
    {
      "cell_type": "markdown",
      "metadata": {
        "id": "9qndwAG5UAKi"
      },
      "source": [
        "作業目標<br>\r\n",
        "在一個陣列中放入多屬性陣列，進一步對陣列做運算<br>\r\n",
        "作業重點<br>\r\n",
        "在建立結構化陣列前需要先設定屬性，在做運算時須注意資料屬性"
      ]
    },
    {
      "cell_type": "markdown",
      "metadata": {
        "id": "48DhzHvBUB2c"
      },
      "source": [
        "題目:<br>\r\n",
        "name_list = ['小明','小華','小菁','小美','小張','John','Mark','Tom']<br>\r\n",
        "sex_list = ['boy','boy','girl','girl','boy','boy','boy','boy']<br>\r\n",
        "weight_list = [67.5,75.3,50.1,45.5,80.8,90.4,78.4,70.7]<br>\r\n",
        "rank_list = [8,1,5,4,7,6,2,3]<br>\r\n",
        "myopia_list = [True,True,False,False,True,True,False,False]<br>\r\n",
        "1. 將上列list依照['name', 'sex', 'weight', 'rank', 'myopia']順序擺入array，並且資料型態順序擺入[Unicode,Unicode,float,int,boolean]<br>\r\n",
        "2. 呈上題，將array中體重(weight)數據集取出算出全部平均體重\r\n",
        "3. 呈上題，進一步算出男生(sex欄位是boy)平均體重、女生(sex欄位是girl)平均體重\r\n"
      ]
    },
    {
      "cell_type": "code",
      "metadata": {
        "id": "5n4rAx-9VgVr"
      },
      "source": [
        "import numpy as np "
      ],
      "execution_count": 1,
      "outputs": []
    },
    {
      "cell_type": "code",
      "metadata": {
        "id": "Vl-wSYQdUBcw"
      },
      "source": [
        "name_list = ['小明','小華','小菁','小美','小張','John','Mark','Tom']\r\n",
        "sex_list = ['boy','boy','girl','girl','boy','boy','boy','boy']\r\n",
        "weight_list = [67.5,75.3,50.1,45.5,80.8,90.4,78.4,70.7]\r\n",
        "rank_list = [8,1,5,4,7,6,2,3]\r\n",
        "myopia_list = [True,True,False,False,True,True,False,False]"
      ],
      "execution_count": 3,
      "outputs": []
    },
    {
      "cell_type": "code",
      "metadata": {
        "id": "ElavkYgwVftG"
      },
      "source": [
        "#1. 將上列list依照['name', 'sex', 'weight', 'rank', 'myopia']順序擺入array，並且資料型態順序擺入[Unicode,Unicode,float,int,boolean]"
      ],
      "execution_count": 2,
      "outputs": []
    },
    {
      "cell_type": "code",
      "metadata": {
        "colab": {
          "base_uri": "https://localhost:8080/"
        },
        "id": "fXmk47Jx0F50",
        "outputId": "74a9f102-281b-418f-f5f5-1af52268c8dc"
      },
      "source": [
        "dt = np.dtype({'names':('name', 'sex', 'weight', 'rank', 'myopia'),\r\n",
        "               'formats':('U4','U4','f4','i2','?')})\r\n",
        "\r\n",
        "arry = np.zeros(8, dtype =dt)\r\n",
        "\r\n",
        "arry['name']= name_list\r\n",
        "arry['sex'] = sex_list\r\n",
        "arry['weight'] = weight_list\r\n",
        "arry ['rank'] = rank_list\r\n",
        "arry ['myopia'] = myopia_list\r\n",
        "\r\n",
        "arry"
      ],
      "execution_count": 8,
      "outputs": [
        {
          "output_type": "execute_result",
          "data": {
            "text/plain": [
              "array([('小明', 'boy', 67.5, 8,  True), ('小華', 'boy', 75.3, 1,  True),\n",
              "       ('小菁', 'girl', 50.1, 5, False), ('小美', 'girl', 45.5, 4, False),\n",
              "       ('小張', 'boy', 80.8, 7,  True), ('John', 'boy', 90.4, 6,  True),\n",
              "       ('Mark', 'boy', 78.4, 2, False), ('Tom', 'boy', 70.7, 3, False)],\n",
              "      dtype=[('name', '<U4'), ('sex', '<U4'), ('weight', '<f4'), ('rank', '<i2'), ('myopia', '?')])"
            ]
          },
          "metadata": {
            "tags": []
          },
          "execution_count": 8
        }
      ]
    },
    {
      "cell_type": "code",
      "metadata": {
        "id": "N-xffNSVWbP1",
        "colab": {
          "base_uri": "https://localhost:8080/"
        },
        "outputId": "6f5d6524-6855-436e-eeea-e4e1e241739a"
      },
      "source": [
        "#2. 呈上題，將array中體重(weight)數據集取出算出全部平均體重\r\n",
        "arry['weight'].mean()"
      ],
      "execution_count": 9,
      "outputs": [
        {
          "output_type": "execute_result",
          "data": {
            "text/plain": [
              "69.8375"
            ]
          },
          "metadata": {
            "tags": []
          },
          "execution_count": 9
        }
      ]
    },
    {
      "cell_type": "code",
      "metadata": {
        "id": "_LhLg8RiWwEm",
        "colab": {
          "base_uri": "https://localhost:8080/"
        },
        "outputId": "f5f7d2e6-b7f3-4fc4-f31b-c69b3e2b86e7"
      },
      "source": [
        "#3. 呈上題，進一步算出男生(sex欄位是boy)平均體重\r\n",
        "arry[arry['sex']== 'boy']['weight'].mean()"
      ],
      "execution_count": 10,
      "outputs": [
        {
          "output_type": "execute_result",
          "data": {
            "text/plain": [
              "77.18333"
            ]
          },
          "metadata": {
            "tags": []
          },
          "execution_count": 10
        }
      ]
    },
    {
      "cell_type": "code",
      "metadata": {
        "id": "f_J05IPxX6fg"
      },
      "source": [
        "#3. 呈上題，進一步算出女生(sex欄位是girl)平均體重"
      ],
      "execution_count": null,
      "outputs": []
    },
    {
      "cell_type": "code",
      "metadata": {
        "id": "eX63rZnX3d5O",
        "colab": {
          "base_uri": "https://localhost:8080/"
        },
        "outputId": "259d7a01-2cdf-40b5-dd2d-988a743c0c4f"
      },
      "source": [
        "arry[arry['sex']== 'girl']['weight'].mean()"
      ],
      "execution_count": 11,
      "outputs": [
        {
          "output_type": "execute_result",
          "data": {
            "text/plain": [
              "47.8"
            ]
          },
          "metadata": {
            "tags": []
          },
          "execution_count": 11
        }
      ]
    }
  ]
}